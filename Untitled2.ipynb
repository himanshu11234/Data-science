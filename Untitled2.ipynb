{
 "cells": [
  {
   "cell_type": "code",
   "execution_count": null,
   "id": "344f8473-69d9-40e8-b0bf-67faf3a65fc5",
   "metadata": {},
   "outputs": [],
   "source": [
    " ##1.) Explain with an example each when to use a for loop and a while loop."
   ]
  },
  {
   "cell_type": "code",
   "execution_count": 1,
   "id": "c5775d9c-4c1d-49e8-b4fd-5cdcf9dccdcf",
   "metadata": {},
   "outputs": [],
   "source": [
    "friute =['apple','mango','banana','cherry']"
   ]
  },
  {
   "cell_type": "code",
   "execution_count": 2,
   "id": "36e032b0-3382-49a5-9a1c-4ba1e13c6d19",
   "metadata": {},
   "outputs": [
    {
     "name": "stdout",
     "output_type": "stream",
     "text": [
      "apple\n",
      "mango\n",
      "banana\n",
      "cherry\n"
     ]
    }
   ],
   "source": [
    "for i  in friute:\n",
    "    print(i)"
   ]
  },
  {
   "cell_type": "code",
   "execution_count": 10,
   "id": "4157d250-5a70-4fd6-9a85-e5c26559fceb",
   "metadata": {},
   "outputs": [
    {
     "name": "stdout",
     "output_type": "stream",
     "text": [
      "0\n",
      "1\n",
      "2\n",
      "3\n",
      "4\n"
     ]
    }
   ],
   "source": [
    "# While loop are used when you want to execute a block of code repeatedly as long as a certin condition is met. For example:\n",
    "count = 0\n",
    "while count < 5:\n",
    "    print(count)\n",
    "    count=count+1\n"
   ]
  },
  {
   "cell_type": "code",
   "execution_count": null,
   "id": "374cf67a-8705-42dd-8d79-3a8067b86066",
   "metadata": {},
   "outputs": [],
   "source": [
    "##2.) WAP to print the sum and product of the first 10 natural numbers using for and while loop."
   ]
  },
  {
   "cell_type": "code",
   "execution_count": 24,
   "id": "fc45657a-60d4-4cde-a959-55749d2cf912",
   "metadata": {},
   "outputs": [],
   "source": [
    "sum=0\n",
    "for i in range(1,11):\n",
    "    sum=sum+i"
   ]
  },
  {
   "cell_type": "code",
   "execution_count": 23,
   "id": "27ff52ec-8e3a-425e-925b-a90476ea58c7",
   "metadata": {},
   "outputs": [
    {
     "data": {
      "text/plain": [
       "55"
      ]
     },
     "execution_count": 23,
     "metadata": {},
     "output_type": "execute_result"
    }
   ],
   "source": [
    "sum"
   ]
  },
  {
   "cell_type": "code",
   "execution_count": 32,
   "id": "04d8aa7f-ff0b-4acb-882e-63da162da2b2",
   "metadata": {},
   "outputs": [],
   "source": [
    "##while loop\n",
    "i = 1\n",
    "sum=0\n",
    "while(i<=10):\n",
    "    sum=sum+i\n",
    "    i += 1"
   ]
  },
  {
   "cell_type": "code",
   "execution_count": 33,
   "id": "3634d536-d76d-4bf9-b7e2-6dc5a3acad2c",
   "metadata": {},
   "outputs": [
    {
     "data": {
      "text/plain": [
       "55"
      ]
     },
     "execution_count": 33,
     "metadata": {},
     "output_type": "execute_result"
    }
   ],
   "source": [
    "sum"
   ]
  },
  {
   "cell_type": "code",
   "execution_count": null,
   "id": "3678ed4c-80cc-43f3-881e-af4fe96ef24f",
   "metadata": {},
   "outputs": [],
   "source": [
    "###3.) WAP to compute the electricity bill for a household."
   ]
  },
  {
   "cell_type": "code",
   "execution_count": 35,
   "id": "822607ee-ccef-4f34-8f22-2c71e998f1d5",
   "metadata": {},
   "outputs": [
    {
     "name": "stdin",
     "output_type": "stream",
     "text": [
      "Enter the numbers of units consumed:  120\n"
     ]
    },
    {
     "name": "stdout",
     "output_type": "stream",
     "text": [
      "Enter the numbers of units consumed:  units 120\n",
      "Your Electricity  bill is: 660.0 Rupees\n"
     ]
    }
   ],
   "source": [
    "units = int(input(\"Enter the numbers of units consumed: \"))\n",
    "print(\"Enter the numbers of units consumed:  units\",units)\n",
    "def electricity(units):\n",
    "    bill = 0\n",
    "    if units <= 100:\n",
    "        bill = units *4.5\n",
    "    elif units <=200:\n",
    "        bill = units*4.5 +(units-100)*6\n",
    "    elif units <=300:\n",
    "        bill = 100*4.5+100*6+(units-200)*10\n",
    "    else:\n",
    "        bill = 100*4.5+100*6+ 100*10 +(units-300)*20\n",
    "    return bill\n",
    "\n",
    "print(\"Your Electricity  bill is:\",electricity(units),\"Rupees\")"
   ]
  },
  {
   "cell_type": "code",
   "execution_count": null,
   "id": "83c58587-7671-465e-9952-52b4135536c5",
   "metadata": {},
   "outputs": [],
   "source": [
    "###  4.) Create a list of numbers from 1-100. use for loop and while loop to calculate the cube of each number and if the cube of that number is divisible by 4 or 5 then append that number in a list and print that list."
   ]
  },
  {
   "cell_type": "code",
   "execution_count": 38,
   "id": "57351fce-e021-437c-87df-ea24842a560c",
   "metadata": {},
   "outputs": [],
   "source": [
    "l1=[]\n",
    "for i in range(1,101):\n",
    "    cube = i**3\n",
    "    if cube % 4==0 or cube % 5==0:\n",
    "         l1.append(cube)\n",
    "            "
   ]
  },
  {
   "cell_type": "code",
   "execution_count": null,
   "id": "54f8330b-510a-4102-8b0a-939c8be249a1",
   "metadata": {},
   "outputs": [],
   "source": [
    "l=[]\n",
    "i=1\n",
    "while i <=100:\n",
    "    cube = i**3\n",
    "    if cube % 4 == 0 or cube % 5 == 0:\n",
    "        l.append(cube)\n",
    "    i +=1\n",
    "print(\"List of cube that are divisible by 4 or 5 is :\",l)"
   ]
  },
  {
   "cell_type": "code",
   "execution_count": 40,
   "id": "254eed58-9f80-4f52-ad85-e6dad434e3cb",
   "metadata": {},
   "outputs": [],
   "source": [
    "### 5.) WAP to filter count vowels in the below-given string. string = \"I want to become a data scientist\""
   ]
  },
  {
   "cell_type": "code",
   "execution_count": 43,
   "id": "216056ce-f8f1-4eb6-94d2-cfdec820547d",
   "metadata": {},
   "outputs": [
    {
     "name": "stdout",
     "output_type": "stream",
     "text": [
      "1\n",
      "2\n",
      "3\n",
      "4\n",
      "5\n",
      "6\n",
      "7\n",
      "8\n",
      "9\n",
      "10\n",
      "11\n",
      "12\n"
     ]
    }
   ],
   "source": [
    "a=\"I want to become a data scientist\"\n",
    "vowels = [\"a\",\"e\",\"i\",\"o\",\"u\",\"A\",\"E\",\"I\",\"O\",\"U\"]\n",
    "count = 0\n",
    "for char in a:\n",
    "    if char in vowels:\n",
    "        count=count+1\n",
    "        print(count)"
   ]
  },
  {
   "cell_type": "code",
   "execution_count": 42,
   "id": "fc132fa9-6d47-486d-99a3-3735f3b26c5f",
   "metadata": {},
   "outputs": [
    {
     "data": {
      "text/plain": [
       "0"
      ]
     },
     "execution_count": 42,
     "metadata": {},
     "output_type": "execute_result"
    }
   ],
   "source": [
    "count"
   ]
  },
  {
   "cell_type": "code",
   "execution_count": 44,
   "id": "16b4d395-1fd6-484d-a174-db61dfbb8aeb",
   "metadata": {},
   "outputs": [
    {
     "name": "stdout",
     "output_type": "stream",
     "text": [
      "Number of vowels in given string is:  12\n"
     ]
    }
   ],
   "source": [
    "a=\"I want to become a data scientist\"\n",
    "vowels = [\"a\",\"e\",\"i\",\"o\",\"u\",\"A\",\"E\",\"I\",\"O\",\"U\"]\n",
    "count = 0\n",
    "\n",
    "for character in a:\n",
    "    if character in vowels:\n",
    "        count += 1\n",
    "pa=\"I want to become a data scientist\"\n",
    "vowels = [\"a\",\"e\",\"i\",\"o\",\"u\",\"A\",\"E\",\"I\",\"O\",\"U\"]\n",
    "count = 0\n",
    "\n",
    "for character in a:\n",
    "    if character in vowels:\n",
    "        count += 1\n",
    "print(\"Number of vowels in given string is: \",count)"
   ]
  },
  {
   "cell_type": "code",
   "execution_count": null,
   "id": "c0238abf-a38c-4af4-bce7-b5cc31cbf1d4",
   "metadata": {},
   "outputs": [],
   "source": []
  }
 ],
 "metadata": {
  "kernelspec": {
   "display_name": "Python 3 (ipykernel)",
   "language": "python",
   "name": "python3"
  },
  "language_info": {
   "codemirror_mode": {
    "name": "ipython",
    "version": 3
   },
   "file_extension": ".py",
   "mimetype": "text/x-python",
   "name": "python",
   "nbconvert_exporter": "python",
   "pygments_lexer": "ipython3",
   "version": "3.10.8"
  }
 },
 "nbformat": 4,
 "nbformat_minor": 5
}
