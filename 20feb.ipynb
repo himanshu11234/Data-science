{
 "cells": [
  {
   "cell_type": "code",
   "execution_count": null,
   "id": "4d07d8c8-5cc5-4b9b-91bb-0ded7d882e04",
   "metadata": {},
   "outputs": [],
   "source": [
    "\n",
    "Q1. Explain GET and POST methods.\n",
    "The GET and POST methods are two HTTP (Hypertext Transfer Protocol) request methods used by web browsers to communicate with web servers.\n",
    "\n",
    "GET method: The GET method is used to retrieve information from the server. When a user requests a webpage, the browser sends a GET request to the server, which responds by returning the requested resource as a response. The GET request sends the data in the URL, which can be seen by anyone who has access to the browser's history or server logs. For example, when you type a website's URL in the browser's address bar, you are sending a GET request to the server.\n",
    "\n",
    "POST method: The POST method is used to submit data to the server for processing. When a user submits a form, the data is sent to the server using a POST request. Unlike the GET method, the data is sent in the request body and is not visible in the URL, which makes it more secure. The POST method is commonly used when sensitive information such as login credentials or payment information is being sent to the server.\n",
    "\n",
    "Q2. Why is request used in Flask?\n",
    "Request is used in Flask to handle incoming HTTP requests from clients (usually web browsers).\n",
    "\n",
    "When a client makes an HTTP request to a Flask application, the request is processed by the Flask framework and a Request object is created to hold all the information about the request. The Request object contains information such as the request method (GET, POST, etc.), the URL requested, headers, and any data sent in the request body.\n",
    "\n",
    "The Request object allows the Flask application to access and manipulate the information in the request, which is necessary to build a dynamic web application. For example, if a user submits a form on a webpage, the data from the form is sent in the request body, and the Flask application needs to access this data in order to process it and send a response.\n",
    "\n",
    "3 Q3. Why is redirect() used in Flask?\n",
    "redirect() is used in Flask to redirect the client to a different URL.\n",
    "\n",
    "When a user visits a URL in a Flask application, the Flask framework processes the request and generates a response to send back to the client. In some cases, it may be necessary to redirect the user to a different URL instead of sending the original response. For example, after a user logs in to a website, they may be redirected to a dashboard or home page.\n",
    "\n",
    "Q4. What are templates in Flask? Why is the render_template() function used?\n",
    "Templets : *The html files which will help us to clad or make the user interface, like how the input should be taken how the result should be displayed where the submit button should be.\n",
    "\n",
    "**Normally templets are done by UI developper in html format.\n",
    "\n",
    "***In pycharm or python console there should be a separate folder of templets which should contain all the information of display.\n",
    "\n",
    "render_template() render_template() will help the python ide to render or access the specific file or website we have made.\n",
    "\n",
    "Q5. Create a simple API. Use Postman to test it. Attach the screenshot of the output in the Jupyter Notebook.\n",
    "Screenshot (41).png\n",
    "\n",
    "Screenshot (42).png\n",
    "\n",
    "Screenshot (39).png\n",
    "\n",
    "Screenshot (40).png"
   ]
  }
 ],
 "metadata": {
  "kernelspec": {
   "display_name": "Python 3 (ipykernel)",
   "language": "python",
   "name": "python3"
  },
  "language_info": {
   "codemirror_mode": {
    "name": "ipython",
    "version": 3
   },
   "file_extension": ".py",
   "mimetype": "text/x-python",
   "name": "python",
   "nbconvert_exporter": "python",
   "pygments_lexer": "ipython3",
   "version": "3.10.8"
  }
 },
 "nbformat": 4,
 "nbformat_minor": 5
}
